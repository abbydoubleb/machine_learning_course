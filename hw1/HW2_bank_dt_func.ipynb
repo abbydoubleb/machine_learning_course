{
 "cells": [
  {
   "cell_type": "code",
   "execution_count": 16,
   "metadata": {
    "collapsed": true
   },
   "outputs": [],
   "source": [
    "import numpy as np   \n",
    "from sklearn.model_selection import train_test_split\n",
    "from sklearn.tree import DecisionTreeClassifier  \n",
    "from sklearn import preprocessing\n",
    "from sklearn.metrics import accuracy_score\n",
    "import matplotlib.pyplot as plt \n",
    "import pandas as pd"
   ]
  },
  {
   "cell_type": "code",
   "execution_count": 17,
   "metadata": {
    "collapsed": true
   },
   "outputs": [],
   "source": [
    "def read_csv(f):\n",
    "    # use \";\" to separate\n",
    "    data_list = pd.read_csv(f,sep=\";\")\n",
    "    return data_list   "
   ]
  },
  {
   "cell_type": "code",
   "execution_count": 18,
   "metadata": {
    "collapsed": true
   },
   "outputs": [],
   "source": [
    "def get_train_and_test_data(df):\n",
    "    # get the data and output\n",
    "    X_ori = df.values[:, :-1]\n",
    "    Y = df.values[:,-1]\n",
    "    X = np.zeros(X_ori.shape)\n",
    "\n",
    "    # do some encoding before using fit\n",
    "    # fit() does not accept Strings \n",
    "    # LabelEncoder : turn your string into incremental value\n",
    "    le = preprocessing.LabelEncoder()\n",
    "    for i in range(df.shape[1]-1):\n",
    "        X[:,i] = le.fit_transform(X_ori[:,i])\n",
    "\n",
    "    # get testdata and validation data\n",
    "    x_train, x_test, y_train, y_test = train_test_split( X, Y, test_size = 0.3)\n",
    "    \n",
    "    return x_train, x_test, y_train, y_test"
   ]
  },
  {
   "cell_type": "code",
   "execution_count": 19,
   "metadata": {
    "collapsed": true
   },
   "outputs": [],
   "source": [
    "def decisiontree(depth, *data):\n",
    "    x_train, x_test, y_train, y_test = data\n",
    "    \n",
    "    \n",
    "    # criterion = gini\n",
    "    clf_gini = DecisionTreeClassifier(criterion = \"gini\", max_features=\"auto\",\n",
    "                                  random_state = 100,max_depth=depth,)\n",
    "    clf_gini.fit(x_train, y_train)\n",
    "    \n",
    "    \n",
    "    #criterion = entropy\n",
    "    clf_entropy = DecisionTreeClassifier(criterion = \"entropy\", max_features=\"auto\",\n",
    "                                  random_state = 100,max_depth=depth,)\n",
    "    clf_entropy.fit(x_train, y_train)\n",
    "    \n",
    "    #predict the output\n",
    "    y_pred = clf_gini.predict(x_test)\n",
    "    y_pred_en = clf_entropy.predict(x_test)\n",
    "    \n",
    "    #score\n",
    "    print(\"The full score is 100\")\n",
    "    print(\"The prediction accuracy score with criterion gini index is \", accuracy_score(y_test,y_pred)*100)\n",
    "    print(\"The prediction accuracy score with criterion information gain is \", accuracy_score(y_test,y_pred_en)*100)\n",
    "    \n",
    "    return clf_gini, clf_entropy"
   ]
  },
  {
   "cell_type": "code",
   "execution_count": 20,
   "metadata": {
    "collapsed": true
   },
   "outputs": [],
   "source": [
    "def draw_tree(gini_t, entropy_t):\n",
    "    from sklearn.tree import export_graphviz  \n",
    "    # Open the .dot file in a text editor\n",
    "    # Copy the piece of code and paste it @ webgraphviz.com\n",
    "    export_graphviz(gini_t, \"D:/test/gini\")\n",
    "    export_graphviz(entropy_t, \"D:/test/entropy\")"
   ]
  },
  {
   "cell_type": "code",
   "execution_count": 21,
   "metadata": {
    "collapsed": true
   },
   "outputs": [],
   "source": [
    "def main():\n",
    "    csv_file = \"C:/Users/user/Desktop/bank-additional/bank-additional-full.csv\"\n",
    "    csv_df = read_csv(csv_file)\n",
    "    x_train, x_test, y_train, y_test = get_train_and_test_data(csv_df)\n",
    "    \n",
    "    depth=5\n",
    "    clf_gini, clf_entropy = decisiontree(depth, x_train, x_test, y_train, y_test)\n",
    "    draw_tree(clf_gini, clf_entropy)"
   ]
  },
  {
   "cell_type": "code",
   "execution_count": 22,
   "metadata": {},
   "outputs": [
    {
     "name": "stdout",
     "output_type": "stream",
     "text": [
      "The full score is 100\n",
      "The prediction accuracy score with criterion gini index is  90.5883305009\n",
      "The prediction accuracy score with criterion information gain is  90.7178117666\n"
     ]
    }
   ],
   "source": [
    "if __name__==\"__main__\":\n",
    "    main()"
   ]
  }
 ],
 "metadata": {
  "kernelspec": {
   "display_name": "Python 3",
   "language": "python",
   "name": "python3"
  },
  "language_info": {
   "codemirror_mode": {
    "name": "ipython",
    "version": 3
   },
   "file_extension": ".py",
   "mimetype": "text/x-python",
   "name": "python",
   "nbconvert_exporter": "python",
   "pygments_lexer": "ipython3",
   "version": "3.6.2"
  }
 },
 "nbformat": 4,
 "nbformat_minor": 2
}
