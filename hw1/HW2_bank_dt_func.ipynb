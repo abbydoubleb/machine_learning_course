{
 "cells": [
  {
   "cell_type": "code",
   "execution_count": 114,
   "metadata": {
    "collapsed": true
   },
   "outputs": [],
   "source": [
    "import numpy as np   \n",
    "from sklearn.model_selection import train_test_split\n",
    "from sklearn.tree import DecisionTreeClassifier  \n",
    "from sklearn import preprocessing\n",
    "from sklearn.metrics import accuracy_score\n",
    "from sklearn.model_selection import ShuffleSplit\n",
    "from sklearn.tree import export_graphviz\n",
    "import matplotlib.pyplot as plt \n",
    "import pandas as pd"
   ]
  },
  {
   "cell_type": "code",
   "execution_count": 115,
   "metadata": {
    "collapsed": true
   },
   "outputs": [],
   "source": [
    "def read_csv(f):\n",
    "    # use \";\" to separate\n",
    "    data_list = pd.read_csv(f,sep=\";\")\n",
    "    return data_list   "
   ]
  },
  {
   "cell_type": "code",
   "execution_count": 116,
   "metadata": {
    "collapsed": true
   },
   "outputs": [],
   "source": [
    "def get_train_and_test_data(df):\n",
    "    # get the data and output\n",
    "    X_ori = df.values[:, :-1]\n",
    "    Y = df.values[:,-1]\n",
    "    X = np.zeros(X_ori.shape)\n",
    "\n",
    "    # do some encoding before using fit\n",
    "    # fit() does not accept Strings \n",
    "    # LabelEncoder : turn your string into incremental value\n",
    "    \n",
    "    le = preprocessing.LabelEncoder()\n",
    "    for i in range(df.shape[1]-1):\n",
    "        X[:,i] = le.fit_transform(X_ori[:,i])\n",
    "\n",
    "\n",
    "    # get testdata and validation data\n",
    "    x_train, x_test, y_train, y_test = train_test_split(X, Y, test_size = 0.3)       \n",
    "    \n",
    "    return x_train, x_test, y_train, y_test"
   ]
  },
  {
   "cell_type": "code",
   "execution_count": 117,
   "metadata": {
    "collapsed": true
   },
   "outputs": [],
   "source": [
    "def decisiontree(depth, *data):\n",
    "    x_train, x_test, y_train, y_test = data\n",
    "    \n",
    "    depth_list = range(1,depth+1)\n",
    "    test_score = []\n",
    "    \n",
    "    #criterion = entropy\n",
    "    for i in depth_list:\n",
    "        clf_entropy = DecisionTreeClassifier(criterion = \"entropy\", random_state = 100, max_depth=i)\n",
    "        clf_entropy.fit(x_train, y_train)\n",
    "\n",
    "        #predict the output\n",
    "        y_pred_en = clf_entropy.predict(x_test)\n",
    "     \n",
    "        #score\n",
    "        s = accuracy_score(y_test,y_pred_en)*100\n",
    "        test_score.append(s)\n",
    "        \n",
    "        draw_tree(clf_entropy, i)\n",
    "        \n",
    "\n",
    "    print(\"The full score is 100\")    \n",
    "    for i in depth_list:\n",
    "        print(\"The prediction accuracy score in depth {} is {}\".format(i, test_score[i-1]))\n",
    "              "
   ]
  },
  {
   "cell_type": "code",
   "execution_count": 118,
   "metadata": {
    "collapsed": true
   },
   "outputs": [],
   "source": [
    "def draw_tree(entropy_t, index_num):\n",
    "      \n",
    "    # Open the .dot file in a text editor\n",
    "    # Copy the piece of code and paste it @ webgraphviz.com\n",
    "    \n",
    "    export_graphviz(entropy_t, \"D:/test/entropy{}\".format(index_num))\n",
    "    "
   ]
  },
  {
   "cell_type": "code",
   "execution_count": 119,
   "metadata": {
    "collapsed": true
   },
   "outputs": [],
   "source": [
    "def main():\n",
    "    csv_file = \"C:/Users/user/Desktop/bank-additional/bank-additional-full.csv\"\n",
    "    csv_df = read_csv(csv_file)\n",
    "    x_train, x_test, y_train, y_test = get_train_and_test_data(csv_df)\n",
    "    \n",
    "    depth=10\n",
    "    decisiontree(depth, x_train, x_test, y_train, y_test)"
   ]
  },
  {
   "cell_type": "code",
   "execution_count": 120,
   "metadata": {},
   "outputs": [
    {
     "name": "stdout",
     "output_type": "stream",
     "text": [
      "The full score is 100\n",
      "The prediction accuracy score in depth 1 is 88.76750020231448\n",
      "The prediction accuracy score in depth 2 is 90.53977502630089\n",
      "The prediction accuracy score in depth 3 is 90.53977502630089\n",
      "The prediction accuracy score in depth 4 is 91.45423646516144\n",
      "The prediction accuracy score in depth 5 is 91.62418062636563\n",
      "The prediction accuracy score in depth 6 is 91.93979121145908\n",
      "The prediction accuracy score in depth 7 is 91.45423646516144\n",
      "The prediction accuracy score in depth 8 is 91.6484583636805\n",
      "The prediction accuracy score in depth 9 is 91.84268026219956\n",
      "The prediction accuracy score in depth 10 is 91.72129157562516\n"
     ]
    }
   ],
   "source": [
    "if __name__==\"__main__\":\n",
    "    main()"
   ]
  }
 ],
 "metadata": {
  "kernelspec": {
   "display_name": "Python 3",
   "language": "python",
   "name": "python3"
  },
  "language_info": {
   "codemirror_mode": {
    "name": "ipython",
    "version": 3
   },
   "file_extension": ".py",
   "mimetype": "text/x-python",
   "name": "python",
   "nbconvert_exporter": "python",
   "pygments_lexer": "ipython3",
   "version": "3.6.2"
  }
 },
 "nbformat": 4,
 "nbformat_minor": 2
}
