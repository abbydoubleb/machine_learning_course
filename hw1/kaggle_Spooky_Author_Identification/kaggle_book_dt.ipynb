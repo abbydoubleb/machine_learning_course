{
 "cells": [
  {
   "cell_type": "code",
   "execution_count": 138,
   "metadata": {
    "collapsed": true
   },
   "outputs": [],
   "source": [
    "import numpy as np   \n",
    "from sklearn.tree import DecisionTreeClassifier  \n",
    "from sklearn.metrics import accuracy_score\n",
    "from sklearn.model_selection import ShuffleSplit\n",
    "import time\n",
    "import pandas as pd\n",
    "import matplotlib.pyplot as plt "
   ]
  },
  {
   "cell_type": "code",
   "execution_count": 139,
   "metadata": {},
   "outputs": [
    {
     "data": {
      "text/html": [
       "<div>\n",
       "<style>\n",
       "    .dataframe thead tr:only-child th {\n",
       "        text-align: right;\n",
       "    }\n",
       "\n",
       "    .dataframe thead th {\n",
       "        text-align: left;\n",
       "    }\n",
       "\n",
       "    .dataframe tbody tr th {\n",
       "        vertical-align: top;\n",
       "    }\n",
       "</style>\n",
       "<table border=\"1\" class=\"dataframe\">\n",
       "  <thead>\n",
       "    <tr style=\"text-align: right;\">\n",
       "      <th></th>\n",
       "      <th>id</th>\n",
       "      <th>text</th>\n",
       "      <th>author</th>\n",
       "    </tr>\n",
       "  </thead>\n",
       "  <tbody>\n",
       "    <tr>\n",
       "      <th>0</th>\n",
       "      <td>id26305</td>\n",
       "      <td>This process, however, afforded me no means of...</td>\n",
       "      <td>EAP</td>\n",
       "    </tr>\n",
       "    <tr>\n",
       "      <th>1</th>\n",
       "      <td>id17569</td>\n",
       "      <td>It never once occurred to me that the fumbling...</td>\n",
       "      <td>HPL</td>\n",
       "    </tr>\n",
       "    <tr>\n",
       "      <th>2</th>\n",
       "      <td>id11008</td>\n",
       "      <td>In his left hand was a gold snuff box, from wh...</td>\n",
       "      <td>EAP</td>\n",
       "    </tr>\n",
       "    <tr>\n",
       "      <th>3</th>\n",
       "      <td>id27763</td>\n",
       "      <td>How lovely is spring As we looked from Windsor...</td>\n",
       "      <td>MWS</td>\n",
       "    </tr>\n",
       "    <tr>\n",
       "      <th>4</th>\n",
       "      <td>id12958</td>\n",
       "      <td>Finding nothing else, not even gold, the Super...</td>\n",
       "      <td>HPL</td>\n",
       "    </tr>\n",
       "  </tbody>\n",
       "</table>\n",
       "</div>"
      ],
      "text/plain": [
       "        id                                               text author\n",
       "0  id26305  This process, however, afforded me no means of...    EAP\n",
       "1  id17569  It never once occurred to me that the fumbling...    HPL\n",
       "2  id11008  In his left hand was a gold snuff box, from wh...    EAP\n",
       "3  id27763  How lovely is spring As we looked from Windsor...    MWS\n",
       "4  id12958  Finding nothing else, not even gold, the Super...    HPL"
      ]
     },
     "execution_count": 139,
     "metadata": {},
     "output_type": "execute_result"
    }
   ],
   "source": [
    "df = pd.read_csv(\"C:/Users/user/Desktop/kaggle/train.csv\")\n",
    "df.head()"
   ]
  },
  {
   "cell_type": "code",
   "execution_count": 140,
   "metadata": {},
   "outputs": [
    {
     "name": "stdout",
     "output_type": "stream",
     "text": [
      "EAP    7900\n",
      "MWS    6044\n",
      "HPL    5635\n",
      "Name: author, dtype: int64\n"
     ]
    }
   ],
   "source": [
    "print(df['author'].value_counts())\n",
    "X = df[\"text\"].values\n",
    "Y = df[\"author\"].values"
   ]
  },
  {
   "cell_type": "code",
   "execution_count": 141,
   "metadata": {},
   "outputs": [],
   "source": [
    "# This cell is equal to next cell\n",
    "\n",
    "# from sklearn.feature_extraction.text import CountVectorizer\n",
    "# from sklearn.feature_extraction.text import TfidfTransformer\n",
    "\n",
    "# vectorizer = CountVectorizer()\n",
    "# X = vectorizer.fit_transform(X)\n",
    "# tf_transformer = TfidfTransformer(use_idf=False).fit(X)\n",
    "# X = tf_transformer.transform(X)"
   ]
  },
  {
   "cell_type": "code",
   "execution_count": 142,
   "metadata": {},
   "outputs": [
    {
     "data": {
      "text/plain": [
       "<19579x25068 sparse matrix of type '<class 'numpy.float64'>'\n",
       "\twith 429602 stored elements in Compressed Sparse Row format>"
      ]
     },
     "execution_count": 142,
     "metadata": {},
     "output_type": "execute_result"
    }
   ],
   "source": [
    "# CountVectorizer implements both tokenization and occurrence counting in a single class\n",
    "\"\"\"\"In a large text corpus, some words will be very present (e.g. “the”, “a”, “is” in English) \n",
    "hence carrying very little meaningful information about the actual contents of the document. \n",
    "If we were to feed the direct count data directly to a classifier those very frequent terms would \n",
    "shadow the frequencies of rarer yet more interesting terms.\"\"\"\n",
    "# TfidfVectorizer combines all the options of CountVectorizer and TfidfTransformer in a single model\n",
    "\n",
    "from sklearn.feature_extraction.text import TfidfVectorizer\n",
    "vectorizer = TfidfVectorizer()\n",
    "X = vectorizer.fit_transform(X)\n",
    "X"
   ]
  },
  {
   "cell_type": "code",
   "execution_count": 143,
   "metadata": {},
   "outputs": [],
   "source": [
    "# split data to 4 pieces, the test size is .25\n",
    "# use cross validation\n",
    "rs = ShuffleSplit(n_splits=4, test_size=.25)\n",
    "rs_list = list(rs.split(X))"
   ]
  },
  {
   "cell_type": "code",
   "execution_count": 144,
   "metadata": {},
   "outputs": [
    {
     "name": "stdout",
     "output_type": "stream",
     "text": [
      "Time for training spent 8.322034739678202 secs\n",
      "The prediction accuracy score is 0.5280388151174668\n",
      "['EAP' 'HPL' 'MWS']\n",
      "[[ 0.          0.          1.        ]\n",
      " [ 0.53065074  0.2659541   0.20339516]\n",
      " [ 0.53065074  0.2659541   0.20339516]\n",
      " ..., \n",
      " [ 0.33102041  0.4155102   0.25346939]\n",
      " [ 0.36363636  0.18181818  0.45454545]\n",
      " [ 1.          0.          0.        ]]\n"
     ]
    }
   ],
   "source": [
    "clf_entropy = DecisionTreeClassifier(criterion = \"entropy\", random_state = 100, max_depth=15)\n",
    "score_list = []\n",
    "tic = time.clock()\n",
    "\n",
    "for train_index, test_index in rs_list:\n",
    "\n",
    "    # the train_index is 3/4 of data, and it's random\n",
    "    # train the tree\n",
    "    clf_entropy.fit(X[train_index], Y[train_index])\n",
    "\n",
    "    #predict the output\n",
    "    y_pred_en = clf_entropy.predict(X[test_index])\n",
    "\n",
    "    #score the prediction\n",
    "    s = accuracy_score(Y[test_index],y_pred_en)\n",
    "    score_list.append(s)\n",
    "    \n",
    "score = np.mean(score_list)    \n",
    "print(\"Time for training spent {} secs\".format(time.clock() - tic))\n",
    "print(\"The prediction accuracy score is {}\".format(score))\n",
    "print(clf_entropy.classes_)\n",
    "print(clf_entropy.predict_proba(X[test_index]))"
   ]
  },
  {
   "cell_type": "code",
   "execution_count": 145,
   "metadata": {},
   "outputs": [
    {
     "name": "stdout",
     "output_type": "stream",
     "text": [
      "Time for training spent 0.1909767421620927 secs\n",
      "The prediction accuracy score is 0.8028600612870275\n",
      "['EAP' 'HPL' 'MWS']\n",
      "[[ 0.15727955  0.0929278   0.74979265]\n",
      " [ 0.81708369  0.02760237  0.15531394]\n",
      " [ 0.49135204  0.2913402   0.21730776]\n",
      " ..., \n",
      " [ 0.29937187  0.2930788   0.40754932]\n",
      " [ 0.52755932  0.21394812  0.25849256]\n",
      " [ 0.66419773  0.18866107  0.1471412 ]]\n"
     ]
    }
   ],
   "source": [
    "from sklearn.naive_bayes import MultinomialNB\n",
    "\n",
    "gnb =  MultinomialNB()\n",
    "score_list = []\n",
    "tic = time.clock()\n",
    "\n",
    "for train_index, test_index in rs_list:\n",
    "\n",
    "    # the train_index is 3/4 of data, and it's random\n",
    "    # train the tree\n",
    "    gnb.fit(X[train_index], Y[train_index])\n",
    "\n",
    "    #predict the output\n",
    "    y_pred_en = gnb.predict(X[test_index])\n",
    "\n",
    "    #score the prediction\n",
    "    s = accuracy_score(Y[test_index],y_pred_en)\n",
    "    score_list.append(s)\n",
    "\n",
    "score = np.mean(score_list) \n",
    "print(\"Time for training spent {} secs\".format(time.clock() - tic))\n",
    "print(\"The prediction accuracy score is {}\".format(score))\n",
    "print(gnb.classes_)\n",
    "predict_probability = gnb.predict_proba(X[test_index])\n",
    "print(predict_probability)"
   ]
  },
  {
   "cell_type": "code",
   "execution_count": 146,
   "metadata": {},
   "outputs": [
    {
     "data": {
      "text/html": [
       "<div>\n",
       "<style>\n",
       "    .dataframe thead tr:only-child th {\n",
       "        text-align: right;\n",
       "    }\n",
       "\n",
       "    .dataframe thead th {\n",
       "        text-align: left;\n",
       "    }\n",
       "\n",
       "    .dataframe tbody tr th {\n",
       "        vertical-align: top;\n",
       "    }\n",
       "</style>\n",
       "<table border=\"1\" class=\"dataframe\">\n",
       "  <thead>\n",
       "    <tr style=\"text-align: right;\">\n",
       "      <th></th>\n",
       "      <th>id</th>\n",
       "      <th>text</th>\n",
       "    </tr>\n",
       "  </thead>\n",
       "  <tbody>\n",
       "    <tr>\n",
       "      <th>0</th>\n",
       "      <td>id02310</td>\n",
       "      <td>Still, as I urged our leaving Ireland with suc...</td>\n",
       "    </tr>\n",
       "    <tr>\n",
       "      <th>1</th>\n",
       "      <td>id24541</td>\n",
       "      <td>If a fire wanted fanning, it could readily be ...</td>\n",
       "    </tr>\n",
       "    <tr>\n",
       "      <th>2</th>\n",
       "      <td>id00134</td>\n",
       "      <td>And when they had broken down the frail door t...</td>\n",
       "    </tr>\n",
       "    <tr>\n",
       "      <th>3</th>\n",
       "      <td>id27757</td>\n",
       "      <td>While I was thinking how I should possibly man...</td>\n",
       "    </tr>\n",
       "    <tr>\n",
       "      <th>4</th>\n",
       "      <td>id04081</td>\n",
       "      <td>I am not sure to what limit his knowledge may ...</td>\n",
       "    </tr>\n",
       "  </tbody>\n",
       "</table>\n",
       "</div>"
      ],
      "text/plain": [
       "        id                                               text\n",
       "0  id02310  Still, as I urged our leaving Ireland with suc...\n",
       "1  id24541  If a fire wanted fanning, it could readily be ...\n",
       "2  id00134  And when they had broken down the frail door t...\n",
       "3  id27757  While I was thinking how I should possibly man...\n",
       "4  id04081  I am not sure to what limit his knowledge may ..."
      ]
     },
     "execution_count": 146,
     "metadata": {},
     "output_type": "execute_result"
    }
   ],
   "source": [
    "# TEST DATA PREDICT\n",
    "\n",
    "test_df = pd.read_csv(\"C:/Users/user/Desktop/kaggle/test.csv\")\n",
    "test_df.head()"
   ]
  },
  {
   "cell_type": "code",
   "execution_count": 157,
   "metadata": {},
   "outputs": [
    {
     "name": "stdout",
     "output_type": "stream",
     "text": [
      "['EAP' 'HPL' 'MWS']\n",
      "[[ 0.24306993  0.10767017  0.6492599 ]\n",
      " [ 0.74726846  0.13350911  0.11922243]\n",
      " [ 0.44088057  0.46265635  0.09646308]\n",
      " ..., \n",
      " [ 0.79019247  0.08156215  0.12824538]\n",
      " [ 0.29597338  0.07158703  0.63243959]\n",
      " [ 0.43648689  0.45694563  0.10656748]]\n"
     ]
    }
   ],
   "source": [
    "X_test = test_df[\"text\"].values\n",
    "X_test = vectorizer.transform(X_test)\n",
    "predict_probability = gnb.predict_proba(X_test)\n",
    "print(gnb.classes_)\n",
    "print(predict_probability)"
   ]
  },
  {
   "cell_type": "code",
   "execution_count": 158,
   "metadata": {},
   "outputs": [
    {
     "data": {
      "text/html": [
       "<div>\n",
       "<style>\n",
       "    .dataframe thead tr:only-child th {\n",
       "        text-align: right;\n",
       "    }\n",
       "\n",
       "    .dataframe thead th {\n",
       "        text-align: left;\n",
       "    }\n",
       "\n",
       "    .dataframe tbody tr th {\n",
       "        vertical-align: top;\n",
       "    }\n",
       "</style>\n",
       "<table border=\"1\" class=\"dataframe\">\n",
       "  <thead>\n",
       "    <tr style=\"text-align: right;\">\n",
       "      <th></th>\n",
       "      <th>id</th>\n",
       "      <th>EAP</th>\n",
       "      <th>HPL</th>\n",
       "      <th>MWS</th>\n",
       "    </tr>\n",
       "  </thead>\n",
       "  <tbody>\n",
       "    <tr>\n",
       "      <th>0</th>\n",
       "      <td>id02310</td>\n",
       "      <td>0.243070</td>\n",
       "      <td>0.107670</td>\n",
       "      <td>0.649260</td>\n",
       "    </tr>\n",
       "    <tr>\n",
       "      <th>1</th>\n",
       "      <td>id24541</td>\n",
       "      <td>0.747268</td>\n",
       "      <td>0.133509</td>\n",
       "      <td>0.119222</td>\n",
       "    </tr>\n",
       "    <tr>\n",
       "      <th>2</th>\n",
       "      <td>id00134</td>\n",
       "      <td>0.440881</td>\n",
       "      <td>0.462656</td>\n",
       "      <td>0.096463</td>\n",
       "    </tr>\n",
       "    <tr>\n",
       "      <th>3</th>\n",
       "      <td>id27757</td>\n",
       "      <td>0.561594</td>\n",
       "      <td>0.361322</td>\n",
       "      <td>0.077084</td>\n",
       "    </tr>\n",
       "    <tr>\n",
       "      <th>4</th>\n",
       "      <td>id04081</td>\n",
       "      <td>0.699153</td>\n",
       "      <td>0.119951</td>\n",
       "      <td>0.180896</td>\n",
       "    </tr>\n",
       "  </tbody>\n",
       "</table>\n",
       "</div>"
      ],
      "text/plain": [
       "        id       EAP       HPL       MWS\n",
       "0  id02310  0.243070  0.107670  0.649260\n",
       "1  id24541  0.747268  0.133509  0.119222\n",
       "2  id00134  0.440881  0.462656  0.096463\n",
       "3  id27757  0.561594  0.361322  0.077084\n",
       "4  id04081  0.699153  0.119951  0.180896"
      ]
     },
     "execution_count": 158,
     "metadata": {},
     "output_type": "execute_result"
    }
   ],
   "source": [
    "# submission\n",
    "\n",
    "submission = pd.DataFrame(predict_probability, columns=gnb.classes_)\n",
    "submission[\"id\"] = test_df[\"id\"]\n",
    "cols = submission.columns.tolist()\n",
    "cols = cols[-1:]+cols[:-1]\n",
    "submission = submission[cols]\n",
    "submission.head()"
   ]
  },
  {
   "cell_type": "code",
   "execution_count": 154,
   "metadata": {},
   "outputs": [],
   "source": [
    "submission.to_csv('submission.csv',index=False)"
   ]
  },
  {
   "cell_type": "code",
   "execution_count": null,
   "metadata": {
    "collapsed": true
   },
   "outputs": [],
   "source": []
  }
 ],
 "metadata": {
  "kernelspec": {
   "display_name": "Python 3",
   "language": "python",
   "name": "python3"
  },
  "language_info": {
   "codemirror_mode": {
    "name": "ipython",
    "version": 3
   },
   "file_extension": ".py",
   "mimetype": "text/x-python",
   "name": "python",
   "nbconvert_exporter": "python",
   "pygments_lexer": "ipython3",
   "version": "3.6.2"
  }
 },
 "nbformat": 4,
 "nbformat_minor": 2
}
